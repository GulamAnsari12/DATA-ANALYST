{
 "cells": [
  {
   "cell_type": "markdown",
   "metadata": {},
   "source": [
    "- how to declare dictionary in different ways\n",
    "- how to access key and values of dictionary\n",
    "- how to use loops in dictionary\n",
    "- nested dictionary\n"
   ]
  },
  {
   "cell_type": "code",
   "execution_count": 12,
   "metadata": {},
   "outputs": [
    {
     "name": "stdout",
     "output_type": "stream",
     "text": [
      "{'name': 'john', 'class': '12th', 'roll no': 2, 'age': 17}\n"
     ]
    }
   ],
   "source": [
    "student = {\n",
    "    \"name\": \"john\",\n",
    "    \"class\": \"12th\",\n",
    "    \"roll no\": 2,\n",
    "    \"age\": 17 \n",
    "        }\n",
    "print(student)"
   ]
  },
  {
   "cell_type": "code",
   "execution_count": 60,
   "metadata": {},
   "outputs": [
    {
     "name": "stdout",
     "output_type": "stream",
     "text": [
      "{'lucknow': [25, 30, 35], 'delhi': [30, 35, 40], 'chennai': [24, 23, 22]}\n"
     ]
    }
   ],
   "source": [
    "temp = {\n",
    "    \"lucknow\": [25,30,35],\n",
    "    \"delhi\": [30,35,40],\n",
    "    \"chennai\": [24,23,22],\n",
    "\n",
    "}\n",
    "print(temp)"
   ]
  },
  {
   "cell_type": "code",
   "execution_count": 14,
   "metadata": {},
   "outputs": [
    {
     "name": "stdout",
     "output_type": "stream",
     "text": [
      "{'name': 'john', 'age': 17, 'roll_no': 2, 'class_': '12th'}\n"
     ]
    }
   ],
   "source": [
    "info = dict(name= 'john', age= 17, roll_no = 2, class_ = '12th')\n",
    "print(info)"
   ]
  },
  {
   "cell_type": "code",
   "execution_count": 15,
   "metadata": {},
   "outputs": [
    {
     "name": "stdout",
     "output_type": "stream",
     "text": [
      "({'name': 'gulam', 'age': 17, 'roll_no': 123, 'class_': '12'},)\n"
     ]
    }
   ],
   "source": [
    "info2 = dict(name= input(\"Enter your name:\"),\n",
    "             age = int(input(\"Enter your age:\")),\n",
    "             roll_no= int(input(\"Enter your roll_no:\")),\n",
    "             class_ = input(\"Enter you class:\")\n",
    "             ),\n",
    "print(info2)\n",
    "\n"
   ]
  },
  {
   "cell_type": "code",
   "execution_count": 16,
   "metadata": {},
   "outputs": [
    {
     "name": "stdout",
     "output_type": "stream",
     "text": [
      "john\n",
      "[25, 30, 35]\n"
     ]
    }
   ],
   "source": [
    "#list method to access the value of a key\n",
    "print(student['name'])\n",
    "print(temp['lucknow'])"
   ]
  },
  {
   "cell_type": "code",
   "execution_count": 17,
   "metadata": {},
   "outputs": [
    {
     "name": "stdout",
     "output_type": "stream",
     "text": [
      "{'name': 'john', 'class': '12th', 'roll no': 2, 'age': 17, 'city': 'lucknow', 'school': 'DPS'}\n"
     ]
    }
   ],
   "source": [
    "#to add items in a dictionary\n",
    "student['city']= 'lucknow'\n",
    "student['school']= 'DPS'\n",
    "print(student)"
   ]
  },
  {
   "cell_type": "code",
   "execution_count": 18,
   "metadata": {},
   "outputs": [
    {
     "name": "stdout",
     "output_type": "stream",
     "text": [
      "{'name': 'john', 'class': '12th', 'roll no': 2, 'age': 17, 'city': 'lucknow'}\n"
     ]
    }
   ],
   "source": [
    "# to remove items from a dictionary\n",
    "student.pop ('school')\n",
    "print(student)"
   ]
  },
  {
   "cell_type": "code",
   "execution_count": 20,
   "metadata": {},
   "outputs": [
    {
     "name": "stdout",
     "output_type": "stream",
     "text": [
      "{'name': 'john', 'class': '12th', 'age': 17, 'city': 'lucknow'}\n"
     ]
    }
   ],
   "source": [
    "# using del method\n",
    "del student ['roll no']\n",
    "print(student)\n"
   ]
  },
  {
   "cell_type": "code",
   "execution_count": 21,
   "metadata": {},
   "outputs": [
    {
     "name": "stdout",
     "output_type": "stream",
     "text": [
      "name\n",
      "age\n",
      "roll_no\n",
      "class_\n"
     ]
    }
   ],
   "source": [
    "for k in info:\n",
    "    print(k)"
   ]
  },
  {
   "cell_type": "code",
   "execution_count": 30,
   "metadata": {},
   "outputs": [
    {
     "ename": "AttributeError",
     "evalue": "'tuple' object has no attribute 'items'",
     "output_type": "error",
     "traceback": [
      "\u001b[1;31m---------------------------------------------------------------------------\u001b[0m",
      "\u001b[1;31mAttributeError\u001b[0m                            Traceback (most recent call last)",
      "Cell \u001b[1;32mIn[30], line 1\u001b[0m\n\u001b[1;32m----> 1\u001b[0m \u001b[38;5;28;01mfor\u001b[39;00m k,v \u001b[38;5;129;01min\u001b[39;00m \u001b[43minfo2\u001b[49m\u001b[38;5;241;43m.\u001b[39;49m\u001b[43mitems\u001b[49m():\n\u001b[0;32m      2\u001b[0m     \u001b[38;5;28mprint\u001b[39m(\u001b[38;5;124mf\u001b[39m\u001b[38;5;124m\"\u001b[39m\u001b[38;5;132;01m{\u001b[39;00mk\u001b[38;5;132;01m}\u001b[39;00m\u001b[38;5;124m:\u001b[39m\u001b[38;5;132;01m{\u001b[39;00mv\u001b[38;5;132;01m}\u001b[39;00m\u001b[38;5;124m\"\u001b[39m)\n",
      "\u001b[1;31mAttributeError\u001b[0m: 'tuple' object has no attribute 'items'"
     ]
    }
   ],
   "source": [
    "for k,v in info2.items():\n",
    "    print(f\"{k}:{v}\")"
   ]
  },
  {
   "cell_type": "code",
   "execution_count": 27,
   "metadata": {},
   "outputs": [
    {
     "name": "stdout",
     "output_type": "stream",
     "text": [
      "dict_values(['john', '12th', 17, 'lucknow'])\n",
      "dict_keys(['name', 'class', 'age', 'city'])\n",
      "dict_items([('name', 'john'), ('class', '12th'), ('age', 17), ('city', 'lucknow')])\n"
     ]
    }
   ],
   "source": [
    "print(student.values())\n",
    "print(student.keys())\n",
    "print(student.items())\n"
   ]
  },
  {
   "cell_type": "code",
   "execution_count": 48,
   "metadata": {},
   "outputs": [
    {
     "name": "stdout",
     "output_type": "stream",
     "text": [
      "{'empoo1': {'name': 'john', 'age': 25, 'dept': 'hr', 'salary': 25000}, 'emp002': {'name': 'emma', 'age': 30, 'dept': 'Finance', 'salary': 30000}, 'emp003': {'name': 'linda', 'age': 35, 'dept': 'IT', 'salary': 35000}, 'emp004': {'name': 'David', 'age': 40, 'dept': 'Admin', 'salary': 40000}, 'emp005': {'name': 'gulam', 'age': 18, 'dept': 'supervisor', 'salary': 50000}}\n"
     ]
    }
   ],
   "source": [
    "company = {\n",
    "    'empoo1': {'name':'john', 'age':25, 'dept': 'hr', 'salary': 25000},\n",
    "    'emp002': {'name': 'emma', 'age':30, 'dept':'Finance', 'salary':30000},\n",
    "    'emp003': {'name': 'linda', 'age':35, 'dept':'IT', 'salary':35000},\n",
    "    'emp004': {'name': 'David', 'age':40, 'dept':'Admin', 'salary':40000},\n",
    "    'emp005': {'name': 'gulam', 'age':18, 'dept': 'supervisor', 'salary':50000 }\n",
    "  \n",
    "    }\n",
    "print(company)"
   ]
  },
  {
   "cell_type": "code",
   "execution_count": 49,
   "metadata": {},
   "outputs": [],
   "source": [
    "from pprint import pp"
   ]
  },
  {
   "cell_type": "code",
   "execution_count": 47,
   "metadata": {},
   "outputs": [
    {
     "name": "stdout",
     "output_type": "stream",
     "text": [
      "{'empoo1': {'name': 'john', 'age': 25, 'dept': 'hr', 'salary': 25000},\n",
      " 'emp002': {'name': 'emma', 'age': 30, 'dept': 'Finance', 'salary': 30000},\n",
      " 'emp003': {'name': 'linda', 'age': 35, 'dept': 'IT', 'salary': 35000},\n",
      " 'emp004': {'name': 'David', 'age': 40, 'dept': 'Admin', 'salary': 40000}}\n"
     ]
    }
   ],
   "source": [
    "pp (company)"
   ]
  },
  {
   "cell_type": "code",
   "execution_count": 40,
   "metadata": {},
   "outputs": [
    {
     "name": "stdout",
     "output_type": "stream",
     "text": [
      "{'name': 'emma', 'age': 30, 'dept': 'Finance', 'salary': 30000}\n"
     ]
    }
   ],
   "source": [
    "print(company['emp002'])"
   ]
  },
  {
   "cell_type": "code",
   "execution_count": 43,
   "metadata": {},
   "outputs": [
    {
     "name": "stdout",
     "output_type": "stream",
     "text": [
      "40\n"
     ]
    }
   ],
   "source": [
    "print(company['epm004']['age'])"
   ]
  },
  {
   "cell_type": "code",
   "execution_count": 50,
   "metadata": {},
   "outputs": [
    {
     "name": "stdout",
     "output_type": "stream",
     "text": [
      "{'name': 'gulam', 'age': 18, 'dept': 'supervisor', 'salary': 50000}\n"
     ]
    }
   ],
   "source": [
    "print(company['emp005'])"
   ]
  },
  {
   "cell_type": "code",
   "execution_count": 51,
   "metadata": {},
   "outputs": [
    {
     "name": "stdout",
     "output_type": "stream",
     "text": [
      "50000\n"
     ]
    }
   ],
   "source": [
    "print(company['emp005']['salary'])"
   ]
  },
  {
   "cell_type": "code",
   "execution_count": 54,
   "metadata": {},
   "outputs": [
    {
     "name": "stdout",
     "output_type": "stream",
     "text": [
      "25\n",
      "22\n"
     ]
    }
   ],
   "source": [
    "#indexing in dictionary\n",
    "print(temp['lucknow'][0])\n",
    "print(temp['delhi'][2])"
   ]
  },
  {
   "cell_type": "code",
   "execution_count": 61,
   "metadata": {},
   "outputs": [
    {
     "name": "stdout",
     "output_type": "stream",
     "text": [
      "average temprature of delhi is 35.0\n"
     ]
    }
   ],
   "source": [
    "print(\"average temprature of delhi is\", sum(temp['delhi'])/len(temp['delhi']))"
   ]
  }
 ],
 "metadata": {
  "kernelspec": {
   "display_name": "base",
   "language": "python",
   "name": "python3"
  },
  "language_info": {
   "codemirror_mode": {
    "name": "ipython",
    "version": 3
   },
   "file_extension": ".py",
   "mimetype": "text/x-python",
   "name": "python",
   "nbconvert_exporter": "python",
   "pygments_lexer": "ipython3",
   "version": "3.12.3"
  }
 },
 "nbformat": 4,
 "nbformat_minor": 2
}
