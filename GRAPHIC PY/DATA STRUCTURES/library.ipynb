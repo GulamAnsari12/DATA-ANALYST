{
 "cells": [
  {
   "cell_type": "markdown",
   "metadata": {},
   "source": [
    "MATH LIBRARY"
   ]
  },
  {
   "cell_type": "code",
   "execution_count": 1,
   "metadata": {},
   "outputs": [],
   "source": [
    "import math\n"
   ]
  },
  {
   "cell_type": "code",
   "execution_count": 2,
   "metadata": {},
   "outputs": [
    {
     "name": "stdout",
     "output_type": "stream",
     "text": [
      "3.0\n",
      "8.0\n",
      "120\n",
      "3.141592653589793\n",
      "2.718281828459045\n",
      "4\n",
      "24\n",
      "0.8414709848078965\n",
      "0.5403023058681398\n",
      "1.5574077246549023\n",
      "3.141592653589793\n"
     ]
    }
   ],
   "source": [
    "print(math.sqrt(9))      #sqare root nikalne ke liye\n",
    "print(math.pow(2,3))     #power nikalne ke lie\n",
    "print(math.factorial(5))  #ulta guna karne ke liye\n",
    "print(math.pi)          #pi ki value nikalne ke liye 22/7\n",
    "print(math.e)          #euler's number\n",
    "print(math.gcd(12,8))   #greatest common division\n",
    "print(math.lcm(12,8))   #lcm nikalne ke liye\n",
    "print(math.sin(1))      #sin thita nikalne ke liye\n",
    "print(math.cos(1))      #cos thita nikalne ke liye\n",
    "print(math.tan(1))      #tan thita nikalne ke liye\n",
    "print(math.pi)"
   ]
  },
  {
   "cell_type": "code",
   "execution_count": 3,
   "metadata": {},
   "outputs": [],
   "source": [
    "from random import random, randint, choice, shuffle  "
   ]
  },
  {
   "cell_type": "code",
   "execution_count": 4,
   "metadata": {},
   "outputs": [
    {
     "name": "stdout",
     "output_type": "stream",
     "text": [
      "get a random number between 0 and 1 : 0.6635191628353104\n",
      "get a random number between 1 and 100: 23\n",
      "get a random element from a list: 6\n",
      "shuffle a list: ['Eve', 'David', 'Bob', 'Alice', 'Charlie']\n"
     ]
    }
   ],
   "source": [
    "print('get a random number between 0 and 1 :', random())\n",
    "print('get a random number between 1 and 100:', randint(1,100))\n",
    "print('get a random element from a list:', choice([1,2,3,4,5,6,7,8,9]))\n",
    "name = ['Alice', 'Bob', 'Charlie','David', 'Eve']\n",
    "shuffle(name)\n",
    "print('shuffle a list:', name)\n"
   ]
  },
  {
   "cell_type": "markdown",
   "metadata": {},
   "source": [
    "DATE AND TIME LIBRARY"
   ]
  },
  {
   "cell_type": "code",
   "execution_count": 5,
   "metadata": {},
   "outputs": [],
   "source": [
    "from datetime import datetime as dt"
   ]
  },
  {
   "cell_type": "code",
   "execution_count": 6,
   "metadata": {},
   "outputs": [
    {
     "name": "stdout",
     "output_type": "stream",
     "text": [
      "Current date and time : 2024-09-25 11:20:35.494084\n"
     ]
    }
   ],
   "source": [
    "print('Current date and time :', dt.now())"
   ]
  },
  {
   "cell_type": "code",
   "execution_count": 7,
   "metadata": {},
   "outputs": [
    {
     "name": "stdout",
     "output_type": "stream",
     "text": [
      "Current Date : 2024-09-25\n",
      "Current Time: 11:20:35.520684\n"
     ]
    }
   ],
   "source": [
    "print('Current Date :', dt.now(). date())\n",
    "print('Current Time:', dt.now(). time())\n"
   ]
  },
  {
   "cell_type": "code",
   "execution_count": 8,
   "metadata": {},
   "outputs": [
    {
     "name": "stdout",
     "output_type": "stream",
     "text": [
      "Current Year: 2024\n",
      "Current Month: 9\n",
      "Curren Day: 25\n",
      "Current Hour: 11\n",
      "Current Minute: 20\n",
      "Current Second: 35\n",
      "Current Microsecond: 537817\n",
      "Current Weekday: 2\n"
     ]
    }
   ],
   "source": [
    "print('Current Year:', dt.now().year)    #CURRENT YEAR CHECK KARNE KE LIYE\n",
    "print('Current Month:', dt.now(). month)   # CURRENT MONTH CHECK KARNE KE LIYE\n",
    "print('Curren Day:', dt.now().day)     # CURRENT DAY CHECK KARNE KE LIYE\n",
    "print('Current Hour:', dt.now().hour)    #CURRENT HOUR CHECK KRNE KE LIYE\n",
    "print('Current Minute:', dt.now().minute)  \n",
    "print('Current Second:', dt.now().second)\n",
    "print('Current Microsecond:', dt.now().microsecond)\n",
    "print('Current Weekday:', dt.now().weekday())"
   ]
  },
  {
   "cell_type": "code",
   "execution_count": 9,
   "metadata": {},
   "outputs": [
    {
     "name": "stdout",
     "output_type": "stream",
     "text": [
      "Date: 09/25/24:20:2024\n"
     ]
    }
   ],
   "source": [
    "date = dt.strftime(dt.now(),'%D:%M:%Y')\n",
    "print('Date:', date)"
   ]
  },
  {
   "cell_type": "code",
   "execution_count": 10,
   "metadata": {},
   "outputs": [
    {
     "name": "stdout",
     "output_type": "stream",
     "text": [
      "Time: 11:20:35\n"
     ]
    }
   ],
   "source": [
    "time = dt.strftime(dt.now(), '%H:%M:%S')\n",
    "print('Time:', time)"
   ]
  },
  {
   "cell_type": "markdown",
   "metadata": {},
   "source": [
    "OS library"
   ]
  },
  {
   "cell_type": "code",
   "execution_count": 11,
   "metadata": {},
   "outputs": [],
   "source": [
    "import os"
   ]
  },
  {
   "cell_type": "code",
   "execution_count": 12,
   "metadata": {},
   "outputs": [
    {
     "name": "stdout",
     "output_type": "stream",
     "text": [
      "current working directory: c:\\DATA ANALYST\\GRAPHIC PY\\DATA STRUCTURES\n"
     ]
    }
   ],
   "source": [
    "print('current working directory:',os.getcwd()) #\n"
   ]
  },
  {
   "cell_type": "code",
   "execution_count": 13,
   "metadata": {},
   "outputs": [
    {
     "name": "stdout",
     "output_type": "stream",
     "text": [
      "Files in the current directory: ['dictionary.ipynb', 'function.ipynb', 'library.ipynb', 'List.ipynb', 'sets.ipynb', 'string.ipynb']\n",
      "6 files found\n"
     ]
    }
   ],
   "source": [
    "files = os.listdir()\n",
    "print('Files in the current directory:', files )\n",
    "print(len(files), 'files found')"
   ]
  },
  {
   "cell_type": "code",
   "execution_count": 14,
   "metadata": {},
   "outputs": [
    {
     "name": "stdout",
     "output_type": "stream",
     "text": [
      "Files in the specified directory: ['.git', 'CAPSULE', 'GRAPHIC PY', 'PYTHON 1100', 'YT PRACTICE']\n"
     ]
    }
   ],
   "source": [
    "files = os.listdir(r\"C:\\DATA ANALYST\")  #r means rostring \n",
    "print('Files in the specified directory:', files)"
   ]
  },
  {
   "cell_type": "code",
   "execution_count": 15,
   "metadata": {},
   "outputs": [
    {
     "data": {
      "text/plain": [
       "<generator object walk at 0x000001FDC1520EA0>"
      ]
     },
     "execution_count": 15,
     "metadata": {},
     "output_type": "execute_result"
    }
   ],
   "source": [
    "os.walk('C:')"
   ]
  },
  {
   "cell_type": "code",
   "execution_count": 16,
   "metadata": {},
   "outputs": [
    {
     "name": "stdout",
     "output_type": "stream",
     "text": [
      "=> C:\n",
      "📂 []\n",
      "🗃️ ['dictionary.ipynb', 'function.ipynb', 'library.ipynb', 'List.ipynb', 'sets.ipynb', 'string.ipynb']\n",
      "total files found: 6\n"
     ]
    }
   ],
   "source": [
    "total_files = 0\n",
    "for path, folders, files in  os.walk('C:'):\n",
    "    print('=>', path)\n",
    "    print('📂', folders)\n",
    "    print('🗃️', files)\n",
    "    total_files += len(files)\n",
    "print('total files found:', total_files)"
   ]
  },
  {
   "cell_type": "code",
   "execution_count": 23,
   "metadata": {},
   "outputs": [
    {
     "name": "stdout",
     "output_type": "stream",
     "text": [
      "Folder exists\n"
     ]
    }
   ],
   "source": [
    "file = r\"C:\\DATA ANALYST\"\n",
    "if os.path.exists(file):\n",
    "    print('Folder exists')\n",
    "else:\n",
    "    print('File not exists')"
   ]
  },
  {
   "cell_type": "code",
   "execution_count": 27,
   "metadata": {},
   "outputs": [
    {
     "name": "stdout",
     "output_type": "stream",
     "text": [
      "Folder exists\n",
      "Folder size: 4096 bytes\n",
      "Folder size in KB: 4.0 KB\n",
      "Folder size in MB: 0.00390625 MB\n",
      "Folder size in GB: 3.814697265625e-06 GB\n"
     ]
    }
   ],
   "source": [
    "files = r\"C:\\DATA ANALYST\"\n",
    "if os.path.exists(files):\n",
    "    print('Folder exists')\n",
    "    size = os.path.getsize(files)\n",
    "    print('Folder size:',size,'bytes')\n",
    "    print('Folder size in KB:',size/1024,'KB')\n",
    "    print('Folder size in MB:',size/1024 /1024,'MB')\n",
    "    print('Folder size in GB:', size/1024/1024/1024,'GB')\n",
    "    "
   ]
  },
  {
   "cell_type": "code",
   "execution_count": null,
   "metadata": {},
   "outputs": [],
   "source": []
  }
 ],
 "metadata": {
  "kernelspec": {
   "display_name": "base",
   "language": "python",
   "name": "python3"
  },
  "language_info": {
   "codemirror_mode": {
    "name": "ipython",
    "version": 3
   },
   "file_extension": ".py",
   "mimetype": "text/x-python",
   "name": "python",
   "nbconvert_exporter": "python",
   "pygments_lexer": "ipython3",
   "version": "3.12.3"
  }
 },
 "nbformat": 4,
 "nbformat_minor": 2
}
