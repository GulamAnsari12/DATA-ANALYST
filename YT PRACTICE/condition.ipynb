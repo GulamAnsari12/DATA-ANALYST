{
 "cells": [
  {
   "cell_type": "markdown",
   "metadata": {},
   "source": [
    "CONDITION STATEMENT"
   ]
  },
  {
   "cell_type": "code",
   "execution_count": 13,
   "metadata": {},
   "outputs": [
    {
     "name": "stdout",
     "output_type": "stream",
     "text": [
      "12  Is a Even Number\n"
     ]
    }
   ],
   "source": [
    "## (#IF) AGAR IF CONDITION TRUE HOGA TABHI OUTPUT EXCUTE HOGA WARNA NAHI\n",
    "\n",
    "a = int(input(\"Enter a number\"))\n",
    "\n",
    "if a%2==0:\n",
    "    print(a,\" Is a Even Number\")"
   ]
  },
  {
   "cell_type": "code",
   "execution_count": 11,
   "metadata": {},
   "outputs": [
    {
     "name": "stdout",
     "output_type": "stream",
     "text": [
      "10255799355 Is a Odd Number\n"
     ]
    }
   ],
   "source": [
    "## (IF,ELSE) IN DONO ME SE KISI EK SE OUTPUT AAYEGA\n",
    "\n",
    "a = int(input(\"Enter a Number\"))\n",
    "if a%2==0:\n",
    "    print(a,\"Is a Even Number\")\n",
    "else:\n",
    "    print(a,\"Is a Odd Number\")"
   ]
  },
  {
   "cell_type": "code",
   "execution_count": 12,
   "metadata": {},
   "outputs": [
    {
     "name": "stdout",
     "output_type": "stream",
     "text": [
      "First Div\n"
     ]
    }
   ],
   "source": [
    "## (IF,ELIF,ELSE) JAB HAMARE PAS EK SE JYADA CONDITION HON TAB HAM ISKA USE KARTE HAIN\n",
    "\n",
    "a = float(input(\"Enter Your Number\"))\n",
    "\n",
    "if a>=80:\n",
    "    print(\"First Div\" )\n",
    "elif a>=70:\n",
    "    print(\"Second Div\")\n",
    "elif a>=60:\n",
    "    print(\"Third Div\")\n",
    "else:\n",
    "    print(\"Fail\")"
   ]
  }
 ],
 "metadata": {
  "kernelspec": {
   "display_name": "base",
   "language": "python",
   "name": "python3"
  },
  "language_info": {
   "codemirror_mode": {
    "name": "ipython",
    "version": 3
   },
   "file_extension": ".py",
   "mimetype": "text/x-python",
   "name": "python",
   "nbconvert_exporter": "python",
   "pygments_lexer": "ipython3",
   "version": "3.12.3"
  }
 },
 "nbformat": 4,
 "nbformat_minor": 2
}
