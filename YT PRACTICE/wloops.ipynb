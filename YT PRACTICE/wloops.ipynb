{
 "cells": [
  {
   "cell_type": "code",
   "execution_count": null,
   "metadata": {},
   "outputs": [],
   "source": [
    "#start\n",
    "#condition\n",
    "#increment/Decrement\n"
   ]
  },
  {
   "cell_type": "code",
   "execution_count": 6,
   "metadata": {},
   "outputs": [
    {
     "name": "stdout",
     "output_type": "stream",
     "text": [
      "1 Welcome Gulam\n",
      "2 Welcome Gulam\n",
      "3 Welcome Gulam\n",
      "4 Welcome Gulam\n",
      "5 Welcome Gulam\n",
      "6 Welcome Gulam\n",
      "7 Welcome Gulam\n",
      "8 Welcome Gulam\n",
      "9 Welcome Gulam\n",
      "10 Welcome Gulam\n",
      "11\n"
     ]
    }
   ],
   "source": [
    "i = 1\n",
    "while i<=10:\n",
    "    print(i,\"Welcome Gulam\")\n",
    "    i= i+1\n",
    "print(i)"
   ]
  },
  {
   "cell_type": "code",
   "execution_count": 11,
   "metadata": {},
   "outputs": [
    {
     "name": "stdout",
     "output_type": "stream",
     "text": [
      "10 hello\n",
      "9 hello\n",
      "8 hello\n",
      "7 hello\n",
      "6 hello\n",
      "5 hello\n",
      "4 hello\n",
      "3 hello\n",
      "2 hello\n",
      "1 hello\n",
      "0\n"
     ]
    }
   ],
   "source": [
    "#reverse\n",
    "\n",
    "a = 10\n",
    "while a>=1:\n",
    "    print(a,\"hello\")\n",
    "    a = a-1\n",
    "print(a)"
   ]
  }
 ],
 "metadata": {
  "kernelspec": {
   "display_name": "base",
   "language": "python",
   "name": "python3"
  },
  "language_info": {
   "codemirror_mode": {
    "name": "ipython",
    "version": 3
   },
   "file_extension": ".py",
   "mimetype": "text/x-python",
   "name": "python",
   "nbconvert_exporter": "python",
   "pygments_lexer": "ipython3",
   "version": "3.12.3"
  }
 },
 "nbformat": 4,
 "nbformat_minor": 2
}
