{
 "cells": [
  {
   "cell_type": "code",
   "execution_count": 2,
   "metadata": {},
   "outputs": [],
   "source": [
    "import numpy as np\n"
   ]
  },
  {
   "cell_type": "code",
   "execution_count": 19,
   "metadata": {},
   "outputs": [
    {
     "name": "stdout",
     "output_type": "stream",
     "text": [
      "[[10 20 30 40]\n",
      " [50 60 80 90]\n",
      " [20 30 70 80]]\n",
      "<class 'numpy.ndarray'>\n",
      "[[60 80]\n",
      " [30 70]]\n"
     ]
    }
   ],
   "source": [
    "arr = np.array([[10,20,30,40],[50,60,80,90],[20,30,70,80]])\n",
    "print(arr)\n",
    "print(type(arr))\n",
    "print(arr[1:3,1:3])\n"
   ]
  },
  {
   "cell_type": "code",
   "execution_count": 24,
   "metadata": {},
   "outputs": [
    {
     "name": "stdout",
     "output_type": "stream",
     "text": [
      "(3, 4)\n",
      "12\n",
      "2\n",
      "int64\n"
     ]
    }
   ],
   "source": [
    "print(np.shape(arr))\n",
    "print(np.size(arr))\n",
    "print(np.ndim(arr))\n",
    "print(arr.dtype)"
   ]
  },
  {
   "cell_type": "code",
   "execution_count": 32,
   "metadata": {},
   "outputs": [
    {
     "name": "stdout",
     "output_type": "stream",
     "text": [
      "(3, 4)\n",
      "3\n",
      "12\n",
      "int64\n",
      "<class 'numpy.ndarray'>\n",
      "[['10' '20' '30' '40']\n",
      " ['50' '60' '80' '90']\n",
      " ['20' '30' '70' '80']]\n"
     ]
    }
   ],
   "source": [
    "print(arr.shape)  #rows, columns\n",
    "print(len(arr))   #number of nested values\n",
    "print(arr.size)   #number of elements\n",
    "print(arr.dtype)  #datatype of array\n",
    "print(type(arr))  #data type of variable\n",
    "print(arr.astype(str))  #conversion of data type"
   ]
  },
  {
   "cell_type": "code",
   "execution_count": null,
   "metadata": {},
   "outputs": [],
   "source": []
  }
 ],
 "metadata": {
  "kernelspec": {
   "display_name": "base",
   "language": "python",
   "name": "python3"
  },
  "language_info": {
   "codemirror_mode": {
    "name": "ipython",
    "version": 3
   },
   "file_extension": ".py",
   "mimetype": "text/x-python",
   "name": "python",
   "nbconvert_exporter": "python",
   "pygments_lexer": "ipython3",
   "version": "3.12.3"
  }
 },
 "nbformat": 4,
 "nbformat_minor": 2
}
