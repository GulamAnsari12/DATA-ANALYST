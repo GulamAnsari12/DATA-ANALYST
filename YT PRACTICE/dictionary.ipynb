{
 "cells": [
  {
   "cell_type": "markdown",
   "metadata": {},
   "source": [
    "Nested Dictionary\n",
    " -(Dictionary ke andar ek dictionary banana NESTED dictionary kahlata hai)"
   ]
  },
  {
   "cell_type": "code",
   "execution_count": 13,
   "metadata": {},
   "outputs": [
    {
     "name": "stdout",
     "output_type": "stream",
     "text": [
      "{'php': {'Duration': '2 months', 'fees': 15000}, 'java': {'Duration': '3 months', 'fees': 10000}, 'python': {'Duration': '2 months', 'fees': 20000}}\n",
      "15000\n",
      "2 months\n",
      "10000\n",
      "php {'Duration': '2 months', 'fees': 15000}\n",
      "php 15000 2 months\n",
      "java {'Duration': '3 months', 'fees': 10000}\n",
      "java 10000 3 months\n",
      "python {'Duration': '2 months', 'fees': 20000}\n",
      "python 20000 2 months\n"
     ]
    }
   ],
   "source": [
    "course ={\n",
    "    'php':{'Duration': '2 months', 'fees': 15000},\n",
    "    'java':{'Duration': '3 months', 'fees': 10000},\n",
    "    'python':{'Duration': '2 months', 'fees': 20000},\n",
    "}\n",
    "print(course)\n",
    "\n",
    "print(course['php']['fees'])\n",
    "print(course['python']['Duration'])\n",
    "print(course['java']['fees'])\n",
    "\n",
    "for k,v in course.items():\n",
    "    print(k,v)\n",
    "    print(k,v['fees'],v['Duration'])"
   ]
  }
 ],
 "metadata": {
  "kernelspec": {
   "display_name": "base",
   "language": "python",
   "name": "python3"
  },
  "language_info": {
   "codemirror_mode": {
    "name": "ipython",
    "version": 3
   },
   "file_extension": ".py",
   "mimetype": "text/x-python",
   "name": "python",
   "nbconvert_exporter": "python",
   "pygments_lexer": "ipython3",
   "version": "3.12.3"
  }
 },
 "nbformat": 4,
 "nbformat_minor": 2
}
