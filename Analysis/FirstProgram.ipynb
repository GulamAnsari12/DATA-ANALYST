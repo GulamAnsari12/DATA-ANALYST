{
 "cells": [
  {
   "cell_type": "code",
   "execution_count": 4,
   "metadata": {},
   "outputs": [
    {
     "name": "stdout",
     "output_type": "stream",
     "text": [
      "My name is : gulam  and i old: 28 my class is : intermediate\n"
     ]
    }
   ],
   "source": [
    "name = input(\"name:\")\n",
    "age = input(\"age:\")\n",
    "class1 = input(\"class1:\")\n",
    "print(\"My name is :\", name, \"and i old:\",age , \"my class is :\",class1)"
   ]
  },
  {
   "cell_type": "code",
   "execution_count": 28,
   "metadata": {},
   "outputs": [
    {
     "name": "stdout",
     "output_type": "stream",
     "text": [
      "stop\n"
     ]
    }
   ],
   "source": [
    "light = input(\"light color :\")\n",
    "if(light == \"red\"):\n",
    "    print(\"stop\")\n",
    "elif (light == \"yellow\"):\n",
    "    print(\"look\")\n",
    "elif (light == \"green\"):\n",
    "    print(\"go\")\n",
    "else:\n",
    "    print(\"light is broken\")"
   ]
  },
  {
   "cell_type": "code",
   "execution_count": 22,
   "metadata": {},
   "outputs": [
    {
     "name": "stdout",
     "output_type": "stream",
     "text": [
      "A\n"
     ]
    }
   ],
   "source": [
    "marks = float(input(\" Enter the marks :\"))\n",
    "if marks >= 90:\n",
    "    print(\"A+\")\n",
    "elif marks >= 80 :\n",
    "    print(\"A\")\n",
    "elif marks >= 70 :\n",
    "    print(\"B\")\n",
    "elif marks >= 60 :\n",
    "    print(\"C\")\n",
    "else:\n",
    "    print(\"Student is fail\")"
   ]
  },
  {
   "cell_type": "code",
   "execution_count": 26,
   "metadata": {},
   "outputs": [
    {
     "name": "stdout",
     "output_type": "stream",
     "text": [
      "no\n"
     ]
    }
   ],
   "source": [
    "#Single line F/ ternary Operator\n",
    "food = input(\"Food:\")\n",
    "eat = \"yes\" if food == \"apple\" else \"no\"\n",
    "print(eat)"
   ]
  },
  {
   "cell_type": "code",
   "execution_count": 27,
   "metadata": {},
   "outputs": [
    {
     "name": "stdout",
     "output_type": "stream",
     "text": [
      "15\n",
      "5\n",
      "50\n",
      "2.0\n",
      "100000\n",
      "0\n",
      "2\n"
     ]
    }
   ],
   "source": [
    "#Arithmetic Operator\n",
    "a = 10\n",
    "b = 5\n",
    "\n",
    "print(a + b)\n",
    "print(a - b)\n",
    "print(a * b)\n",
    "print(a/b)\n",
    "print(a**b)\n",
    "print(a%b)\n",
    "print(a//b)"
   ]
  },
  {
   "cell_type": "code",
   "execution_count": 28,
   "metadata": {},
   "outputs": [
    {
     "name": "stdout",
     "output_type": "stream",
     "text": [
      "False\n",
      "True\n",
      "True\n",
      "True\n",
      "False\n",
      "False\n"
     ]
    }
   ],
   "source": [
    "#Relational Operator\n",
    "a = 50\n",
    "b = 20\n",
    "\n",
    "print (a==b) #False\n",
    "print(a!=b) #true\n",
    "print(a>=b) #true\n",
    "print(a>b) #true\n",
    "print(a<=b) #false\n",
    "print(a<b) #false\n"
   ]
  },
  {
   "cell_type": "code",
   "execution_count": 39,
   "metadata": {},
   "outputs": [
    {
     "name": "stdout",
     "output_type": "stream",
     "text": [
      "10000000000\n"
     ]
    }
   ],
   "source": [
    "#Assignment Operator\n",
    "num = 10\n",
    "num**=10 #u can write anyone at place of like(-=,*=,/=,//=,%=)\n",
    "print(num)"
   ]
  },
  {
   "cell_type": "code",
   "execution_count": 43,
   "metadata": {},
   "outputs": [
    {
     "name": "stdout",
     "output_type": "stream",
     "text": [
      "False\n",
      "AND operator: False\n",
      "OR operator: True\n"
     ]
    }
   ],
   "source": [
    "#Logical operator\n",
    "a = 50\n",
    "b = 30\n",
    "print(not(a>b))\n",
    "\n",
    "val1= True\n",
    "val2= False\n",
    "print(\"AND operator:\", val1 and val2)\n",
    "print(\"OR operator:\" , val1 or val2)\n",
    "\n"
   ]
  },
  {
   "cell_type": "code",
   "execution_count": 50,
   "metadata": {},
   "outputs": [
    {
     "name": "stdout",
     "output_type": "stream",
     "text": [
      "8.25\n",
      "<class 'float'>\n"
     ]
    }
   ],
   "source": [
    "#Type Conversion (change into str-float,int)\n",
    "a = float(\"5\")\n",
    "b = 3.25\n",
    "\n",
    "print(a+b)\n",
    "print(type(a))\n"
   ]
  },
  {
   "cell_type": "code",
   "execution_count": 60,
   "metadata": {},
   "outputs": [
    {
     "name": "stdout",
     "output_type": "stream",
     "text": [
      "sum : 43000\n"
     ]
    }
   ],
   "source": [
    "first = int(input(\"Enter first:\"))\n",
    "second = int(input(\"Enter second:\"))\n",
    "third = int(input(\"Enter third\"))\n",
    "\n",
    "print(\"sum :\", first+second+third)"
   ]
  }
 ],
 "metadata": {
  "kernelspec": {
   "display_name": "base",
   "language": "python",
   "name": "python3"
  },
  "language_info": {
   "codemirror_mode": {
    "name": "ipython",
    "version": 3
   },
   "file_extension": ".py",
   "mimetype": "text/x-python",
   "name": "python",
   "nbconvert_exporter": "python",
   "pygments_lexer": "ipython3",
   "version": "3.12.3"
  }
 },
 "nbformat": 4,
 "nbformat_minor": 2
}
