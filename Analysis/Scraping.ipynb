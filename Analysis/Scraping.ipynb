{
 "cells": [
  {
   "cell_type": "markdown",
   "metadata": {},
   "source": [
    "DPUTILS"
   ]
  },
  {
   "cell_type": "code",
   "execution_count": 1,
   "metadata": {},
   "outputs": [],
   "source": [
    "from dputils.scrape import Scraper,Tag\n",
    "from pprint import pp"
   ]
  },
  {
   "cell_type": "markdown",
   "metadata": {},
   "source": [
    "- Tag class helps t0 decide what to collect from the page\n",
    "- Scraper executes the scraping process"
   ]
  },
  {
   "cell_type": "code",
   "execution_count": 2,
   "metadata": {},
   "outputs": [],
   "source": [
    "url = 'https://www.flipkart.com/oppo-k12x-5g-45w-supervooc-charger-in-the-box-breeze-blue-128-gb/p/itma30cb38861d4c?pid=MOBH2Q4PN6FWZCGV&lid=LSTMOBH2Q4PN6FWZCGVPMAT2I&marketplace=FLIPKART&q=mobile&store=tyy%2F4io&srno=s_1_1&otracker=search&otracker1=search&fm=organic&iid=en_1KmyiwrrSg6XvsuPWPCGvRHA1OPVxedntP0z89eDlojI8aDA7RlQNKeNCiRb15UrvVGd2_jT0N0H7n1f1lM-Dw%3D%3D&ppt=hp&ppn=homepage&ssid=m5aoyicac00000001728802234480&qH=532c28d5412dd75b'"
   ]
  }
 ],
 "metadata": {
  "kernelspec": {
   "display_name": "base",
   "language": "python",
   "name": "python3"
  },
  "language_info": {
   "codemirror_mode": {
    "name": "ipython",
    "version": 3
   },
   "file_extension": ".py",
   "mimetype": "text/x-python",
   "name": "python",
   "nbconvert_exporter": "python",
   "pygments_lexer": "ipython3",
   "version": "3.12.3"
  }
 },
 "nbformat": 4,
 "nbformat_minor": 2
}
