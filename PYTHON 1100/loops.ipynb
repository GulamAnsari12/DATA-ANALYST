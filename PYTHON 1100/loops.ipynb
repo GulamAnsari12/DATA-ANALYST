{
 "cells": [
  {
   "cell_type": "code",
   "execution_count": 1,
   "metadata": {},
   "outputs": [
    {
     "name": "stdout",
     "output_type": "stream",
     "text": [
      "['orange', 'apple', 'pear', 'banana', 'kiwi', 'apple']\n"
     ]
    }
   ],
   "source": [
    "fruits = ['orange', 'apple', 'pear', 'banana', 'kiwi', 'apple']\n",
    "print(fruits)"
   ]
  },
  {
   "cell_type": "code",
   "execution_count": 6,
   "metadata": {},
   "outputs": [
    {
     "name": "stdout",
     "output_type": "stream",
     "text": [
      "orange🤗apple🤗pear🤗banana🤗kiwi🤗apple🤗"
     ]
    }
   ],
   "source": [
    "for z in fruits:\n",
    "    print(z, end='🤗')"
   ]
  },
  {
   "cell_type": "code",
   "execution_count": 7,
   "metadata": {},
   "outputs": [
    {
     "name": "stdout",
     "output_type": "stream",
     "text": [
      "chandrashekhar"
     ]
    }
   ],
   "source": [
    "name = \"chandrashekhar\"\n",
    "for g in name:\n",
    "    print(g, end=\"\")"
   ]
  },
  {
   "cell_type": "code",
   "execution_count": 9,
   "metadata": {},
   "outputs": [
    {
     "name": "stdout",
     "output_type": "stream",
     "text": [
      "gulam\n",
      "gulam\n",
      "gulam\n",
      "gulam\n",
      "gulam\n"
     ]
    }
   ],
   "source": [
    "name = 'gulam'\n",
    "for g in range(5):\n",
    "    print(name)"
   ]
  },
  {
   "cell_type": "code",
   "execution_count": 10,
   "metadata": {},
   "outputs": [
    {
     "name": "stdout",
     "output_type": "stream",
     "text": [
      "sum : 15\n",
      "sum of 10 and 5 is 15\n",
      "sum of 10 and 5 is 15\n"
     ]
    }
   ],
   "source": [
    "a = 10\n",
    "b = 5\n",
    "sum = a+b\n",
    "print(\"sum :\",sum)\n",
    "print(\"sum of\", a, \"and\",b, \"is\", sum)\n",
    "print(f\"sum of {a} and {b} is {sum}\")"
   ]
  },
  {
   "cell_type": "code",
   "execution_count": 17,
   "metadata": {},
   "outputs": [
    {
     "name": "stdout",
     "output_type": "stream",
     "text": [
      "15*1= 15\n",
      "15*2= 30\n",
      "15*3= 45\n",
      "15*4= 60\n",
      "15*5= 75\n",
      "15*6= 90\n",
      "15*7= 105\n",
      "15*8= 120\n",
      "15*9= 135\n",
      "15*10= 150\n"
     ]
    }
   ],
   "source": [
    "\n",
    "#Table of 15\n",
    "for i in range (1,11):\n",
    "    print(f\"15*{i}= {15*i}\")"
   ]
  },
  {
   "cell_type": "code",
   "execution_count": 1,
   "metadata": {},
   "outputs": [
    {
     "name": "stdout",
     "output_type": "stream",
     "text": [
      "1\n",
      "2\n",
      "3\n",
      "4\n",
      "5\n",
      "6\n",
      "7\n",
      "8\n",
      "9\n",
      "10\n"
     ]
    }
   ],
   "source": [
    "for i in range (1,11):\n",
    "    print(i)"
   ]
  },
  {
   "cell_type": "code",
   "execution_count": 6,
   "metadata": {},
   "outputs": [
    {
     "ename": "TypeError",
     "evalue": "unsupported operand type(s) for +: 'int' and 'builtin_function_or_method'",
     "output_type": "error",
     "traceback": [
      "\u001b[1;31m---------------------------------------------------------------------------\u001b[0m",
      "\u001b[1;31mTypeError\u001b[0m                                 Traceback (most recent call last)",
      "Cell \u001b[1;32mIn[6], line 2\u001b[0m\n\u001b[0;32m      1\u001b[0m \u001b[38;5;28;01mfor\u001b[39;00m i \u001b[38;5;129;01min\u001b[39;00m \u001b[38;5;28mrange\u001b[39m(\u001b[38;5;241m2\u001b[39m,\u001b[38;5;241m101\u001b[39m,\u001b[38;5;241m2\u001b[39m):\n\u001b[1;32m----> 2\u001b[0m     i \u001b[38;5;241m=\u001b[39m \u001b[43mi\u001b[49m\u001b[38;5;241;43m+\u001b[39;49m\u001b[38;5;28;43msum\u001b[39;49m\n\u001b[0;32m      3\u001b[0m     \u001b[38;5;28mprint\u001b[39m(i)\n",
      "\u001b[1;31mTypeError\u001b[0m: unsupported operand type(s) for +: 'int' and 'builtin_function_or_method'"
     ]
    }
   ],
   "source": [
    "for i in range(2,101,2):\n",
    "    sum= i+"
   ]
  },
  {
   "cell_type": "code",
   "execution_count": 4,
   "metadata": {},
   "outputs": [
    {
     "name": "stdout",
     "output_type": "stream",
     "text": [
      "2\n",
      "4\n",
      "6\n",
      "8\n",
      "10\n",
      "12\n",
      "14\n",
      "16\n",
      "18\n",
      "20\n"
     ]
    }
   ],
   "source": [
    "for i in range(2,21,2):\n",
    "    print(i)"
   ]
  },
  {
   "cell_type": "code",
   "execution_count": 11,
   "metadata": {},
   "outputs": [
    {
     "name": "stdout",
     "output_type": "stream",
     "text": [
      "sum of integers from 1 to 100 is 5050\n"
     ]
    }
   ],
   "source": [
    "#sum of intigers 1 to 100 use for loop\n",
    "sum = 0\n",
    "for i in range (1,101):\n",
    "    sum = sum+i\n",
    "print(\"sum of integers from 1 to 100 is\",sum)\n"
   ]
  },
  {
   "cell_type": "code",
   "execution_count": 4,
   "metadata": {},
   "outputs": [
    {
     "name": "stdout",
     "output_type": "stream",
     "text": [
      "sum of integers from 1 to 100 is  5050\n"
     ]
    }
   ],
   "source": [
    "#sum of integers 1 to 100 use while loop\n",
    "num= 1\n",
    "sum = 0\n",
    "while num <=100:\n",
    "    sum= sum+num\n",
    "    num=num+1\n",
    "print(\"sum of integers from 1 to 100 is \",sum)"
   ]
  },
  {
   "cell_type": "code",
   "execution_count": 7,
   "metadata": {},
   "outputs": [
    {
     "name": "stdout",
     "output_type": "stream",
     "text": [
      "2\n",
      "4\n",
      "6\n",
      "8\n",
      "10\n",
      "12\n",
      "14\n",
      "16\n",
      "18\n",
      "20\n"
     ]
    }
   ],
   "source": [
    "for i in range(1,21):\n",
    "    if i%2==0:\n",
    "        print(i)"
   ]
  },
  {
   "cell_type": "code",
   "execution_count": 10,
   "metadata": {},
   "outputs": [
    {
     "name": "stdout",
     "output_type": "stream",
     "text": [
      "2\n",
      "4\n",
      "6\n",
      "8\n",
      "10\n",
      "12\n",
      "14\n",
      "16\n",
      "18\n",
      "20\n",
      "sum of even numbers from 1 to 20 is 10\n"
     ]
    }
   ],
   "source": [
    "sum = 0\n",
    "for i in range (1,21):\n",
    "    if i%2 == 0:\n",
    "        print(i)\n",
    "        sum = sum+1\n",
    "print(\"sum of even numbers from 1 to 20 is\",sum)"
   ]
  },
  {
   "cell_type": "markdown",
   "metadata": {},
   "source": [
    "BREAK AND CONTINUE\n"
   ]
  },
  {
   "cell_type": "code",
   "execution_count": 5,
   "metadata": {},
   "outputs": [
    {
     "name": "stdout",
     "output_type": "stream",
     "text": [
      "orange\n",
      "apple\n",
      "pear\n",
      "banana\n"
     ]
    }
   ],
   "source": [
    "fruits = ['orange', 'apple', 'pear', 'banana', 'tomato', 'kiwi', 'apple', 'banana']\n",
    "for fruit in fruits:\n",
    "    if fruit == \"tomato\":\n",
    "        break\n",
    "    print(fruit)"
   ]
  },
  {
   "cell_type": "code",
   "execution_count": 6,
   "metadata": {},
   "outputs": [
    {
     "name": "stdout",
     "output_type": "stream",
     "text": [
      "orange\n",
      "apple\n",
      "pear\n",
      "banana\n",
      "kiwi\n",
      "apple\n",
      "banana\n"
     ]
    }
   ],
   "source": [
    "fruits = ['orange', 'apple', 'pear', 'banana', 'tomato', 'kiwi', 'apple', 'banana']\n",
    "for fruit in fruits:\n",
    "    if fruit == \"tomato\":\n",
    "      continue\n",
    "    print(fruit)"
   ]
  },
  {
   "cell_type": "code",
   "execution_count": 17,
   "metadata": {},
   "outputs": [
    {
     "name": "stdout",
     "output_type": "stream",
     "text": [
      "g\n",
      "u\n",
      "l\n",
      "a\n",
      "m\n"
     ]
    }
   ],
   "source": [
    "name = [\"g\",\"u\",\"l\",\"a\",\"m\"]\n",
    "for i in name:\n",
    "    if name == \"a\":\n",
    "        break\n",
    "    print(i)"
   ]
  },
  {
   "cell_type": "code",
   "execution_count": 18,
   "metadata": {},
   "outputs": [
    {
     "name": "stdout",
     "output_type": "stream",
     "text": [
      "0.pen\n",
      "1.pencil\n",
      "2.eraser\n",
      "3.sharpner\n",
      "4.scale\n",
      "5.book\n",
      "6.bag\n",
      "7.bottle\n"
     ]
    }
   ],
   "source": [
    "items = ['pen', 'pencil', 'eraser','sharpner', 'scale', 'book', 'bag', 'bottle', 'lunchbox', 'tifin']\n",
    "for i, v in enumerate(items):\n",
    "    if i == 8:\n",
    "        break\n",
    "    print(f'{i}.{v}')"
   ]
  }
 ],
 "metadata": {
  "kernelspec": {
   "display_name": "base",
   "language": "python",
   "name": "python3"
  },
  "language_info": {
   "codemirror_mode": {
    "name": "ipython",
    "version": 3
   },
   "file_extension": ".py",
   "mimetype": "text/x-python",
   "name": "python",
   "nbconvert_exporter": "python",
   "pygments_lexer": "ipython3",
   "version": "3.12.3"
  }
 },
 "nbformat": 4,
 "nbformat_minor": 2
}
