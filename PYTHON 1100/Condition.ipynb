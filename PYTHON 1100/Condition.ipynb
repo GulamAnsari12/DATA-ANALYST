{
 "cells": [
  {
   "cell_type": "code",
   "execution_count": 2,
   "metadata": {},
   "outputs": [
    {
     "name": "stdout",
     "output_type": "stream",
     "text": [
      "even\n"
     ]
    }
   ],
   "source": [
    "num = int(input(\"enter a number\"))\n",
    "\n",
    "if num % 2 == 0:\n",
    "    print('even')\n",
    "else:\n",
    "    print('odd')"
   ]
  },
  {
   "cell_type": "code",
   "execution_count": null,
   "metadata": {},
   "outputs": [],
   "source": []
  },
  {
   "cell_type": "code",
   "execution_count": 8,
   "metadata": {},
   "outputs": [
    {
     "name": "stdout",
     "output_type": "stream",
     "text": [
      "not eligible for vote\n"
     ]
    }
   ],
   "source": [
    "## wap to check if a user in eligible to vote\n",
    "age = int(input('enter your age'))\n",
    "\n",
    "if age >= 18:\n",
    "    print('eligible for vote')\n",
    "else:\n",
    "    print(\"not eligible for vote\")\n",
    "    "
   ]
  },
  {
   "cell_type": "code",
   "execution_count": 1,
   "metadata": {},
   "outputs": [
    {
     "name": "stdout",
     "output_type": "stream",
     "text": [
      "f No is Divisible by 3 and 5\n"
     ]
    }
   ],
   "source": [
    "num1 = int(input(\"enter number\"))\n",
    "\n",
    "if num1%3 == 0 and num1%5 == 0:\n",
    "    print('No is Divisible by 3 and 5')\n",
    "else:\n",
    "    print('No is not divisble by 3 and 5')\n",
    "    "
   ]
  },
  {
   "cell_type": "code",
   "execution_count": 14,
   "metadata": {},
   "outputs": [
    {
     "name": "stdout",
     "output_type": "stream",
     "text": [
      "zero\n"
     ]
    }
   ],
   "source": [
    "num2 = int(input(\"enter a number\"))\n",
    "\n",
    "if num2 > 0:\n",
    "    print('positive')\n",
    "elif num2 < 0:\n",
    "    print('negative')\n",
    "else: \n",
    "    print('zero')"
   ]
  },
  {
   "cell_type": "code",
   "execution_count": null,
   "metadata": {},
   "outputs": [],
   "source": [
    "mark>90 - A\n",
    "70 <mark<90 - B\n",
    "50 <mark<70 - c\n",
    "mark<30 - fail"
   ]
  },
  {
   "cell_type": "code",
   "execution_count": 13,
   "metadata": {},
   "outputs": [
    {
     "name": "stdout",
     "output_type": "stream",
     "text": [
      "fail\n"
     ]
    }
   ],
   "source": [
    "marks = int(input(\"enter the marks\"))\n",
    "\n",
    "if marks <= 100 and marks >=90:\n",
    "    print('Grade A')\n",
    "elif marks <90 and marks >=70:\n",
    "    print(\"Grade B\")\n",
    "elif marks <70 and marks >=50:\n",
    "    print(\"Grade C\")\n",
    "elif marks <50 and marks >=30:\n",
    "    print(\"fail\")\n",
    " \n",
    "    "
   ]
  },
  {
   "cell_type": "code",
   "execution_count": 3,
   "metadata": {},
   "outputs": [
    {
     "name": "stdout",
     "output_type": "stream",
     "text": [
      "A+\n",
      "A\n",
      "B\n",
      "C\n",
      "Fail\n"
     ]
    }
   ],
   "source": [
    "marks = 95\n",
    "if marks >= 90:\n",
    "    print('A+')\n",
    "if marks >= 80:\n",
    "    print('A')\n",
    "if marks >= 70:\n",
    "    print('B')\n",
    "if marks >=60:\n",
    "    print('C')\n",
    "if marks >= 50:\n",
    "    print ('Fail')\n",
    "    "
   ]
  },
  {
   "cell_type": "code",
   "execution_count": 5,
   "metadata": {},
   "outputs": [
    {
     "name": "stdout",
     "output_type": "stream",
     "text": [
      "A+\n"
     ]
    }
   ],
   "source": [
    "Marks = 95\n",
    "if marks>= 90:\n",
    "    print('A+')\n",
    "elif marks >= 80:\n",
    "    print('A')\n",
    "elif marks>= 70:\n",
    "    print('B')\n",
    "elif marks >=60:\n",
    "    print('C')\n",
    "elif marks >=50:\n",
    "    print('Fail')\n",
    "else:\n",
    "    print ('invalid marks')"
   ]
  },
  {
   "cell_type": "code",
   "execution_count": 16,
   "metadata": {},
   "outputs": [
    {
     "name": "stdout",
     "output_type": "stream",
     "text": [
      "Scalene\n"
     ]
    }
   ],
   "source": [
    "s1 = 3 \n",
    "s2 = 4\n",
    "s3 = 5\n",
    "if s1 == s2 == s3:\n",
    "    print('Equilateral')\n",
    "elif s1 == s2 or s2 == s3 or s3 == s1:\n",
    "    print('Isosceles')\n",
    "else:\n",
    "    print('Scalene')"
   ]
  },
  {
   "cell_type": "code",
   "execution_count": 4,
   "metadata": {},
   "outputs": [
    {
     "name": "stdout",
     "output_type": "stream",
     "text": [
      "vowel\n"
     ]
    }
   ],
   "source": [
    "char = input(\"enter a character:\")\n",
    "if char== 'a' or char== 'e'or char== 'i' or char== 'o' or char== 'u':\n",
    "    print('vowel')\n",
    "else:\n",
    "    print('consonant')\n",
    "    "
   ]
  },
  {
   "cell_type": "code",
   "execution_count": null,
   "metadata": {},
   "outputs": [],
   "source": [
    "a = 10\n",
    "b = 20\n",
    "c = 30\n",
    "if a>b:\n",
    "    print('')"
   ]
  },
  {
   "cell_type": "code",
   "execution_count": 30,
   "metadata": {},
   "outputs": [
    {
     "name": "stdout",
     "output_type": "stream",
     "text": [
      "vowel\n"
     ]
    }
   ],
   "source": [
    "char = input(\"enter a char\")\n",
    "if char== 'a' or char== 'e'or char== 'i' or char== 'o' or char== 'u':\n",
    "    print('vowel')\n",
    "else:\n",
    "    print('consonant')"
   ]
  },
  {
   "cell_type": "code",
   "execution_count": 2,
   "metadata": {},
   "outputs": [
    {
     "name": "stdout",
     "output_type": "stream",
     "text": [
      "Registration successful😍🤗\n"
     ]
    }
   ],
   "source": [
    "username = input('Enter username:')\n",
    "email = input('Enter email:')\n",
    "password = input('Enter password:')\n",
    "cpass = input('Enter confirm password:')\n",
    "if len(username)>5 and len(username)<15:\n",
    "    if '@' in email and len(email)<=20:\n",
    "        if len(password)>=8 and len(password)<=15:\n",
    "            if password== cpass:\n",
    "                print('Registration successful😍🤗')\n",
    "            else:\n",
    "                print('password mismatch🥱😴')\n",
    "        else:\n",
    "            print('Invalid password😒🫤')\n",
    "    else:\n",
    "        print('Invalid email😒😒')\n",
    "else:\n",
    "    print('Invalid username😡😡')"
   ]
  },
  {
   "cell_type": "code",
   "execution_count": null,
   "metadata": {},
   "outputs": [],
   "source": []
  },
  {
   "cell_type": "code",
   "execution_count": 3,
   "metadata": {},
   "outputs": [
    {
     "name": "stdout",
     "output_type": "stream",
     "text": [
      "Registration Successful\n"
     ]
    }
   ],
   "source": [
    "username = input(\"Enter username:\")\n",
    "email = input(\"Enter email:\")\n",
    "password= input(\"Enter password:\")\n",
    "cpass= input(\"Enter confirm password:\")\n",
    "if len(username)>5 and len(username)<15:\n",
    "    if '@'in email and len(username)<=20:\n",
    "        if len(password)>=8 and len(password)<=15:\n",
    "            if password== cpass:\n",
    "                print(\"Registration Successful\")\n",
    "            else:\n",
    "               print(\"Password mismatch\")\n",
    "        else:\n",
    "           print(\"Invalid password\")\n",
    "    else:\n",
    "        print(\"Invalid email\")\n",
    "else:\n",
    "   print(\"Invalid username\")\n",
    "    "
   ]
  }
 ],
 "metadata": {
  "kernelspec": {
   "display_name": "base",
   "language": "python",
   "name": "python3"
  },
  "language_info": {
   "codemirror_mode": {
    "name": "ipython",
    "version": 3
   },
   "file_extension": ".py",
   "mimetype": "text/x-python",
   "name": "python",
   "nbconvert_exporter": "python",
   "pygments_lexer": "ipython3",
   "version": "3.12.3"
  }
 },
 "nbformat": 4,
 "nbformat_minor": 2
}
