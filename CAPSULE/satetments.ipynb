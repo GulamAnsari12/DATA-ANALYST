{
 "cells": [
  {
   "cell_type": "code",
   "execution_count": 6,
   "metadata": {},
   "outputs": [
    {
     "name": "stdout",
     "output_type": "stream",
     "text": [
      "a is equal to 10\n",
      "what is happennig\n",
      "y is greater than x\n",
      "Wow\n",
      "y is greater to x\n",
      "y is equal to 3 \n",
      "wow\n"
     ]
    }
   ],
   "source": [
    "a = 10\n",
    "if a == 10: \n",
    "    print (\"a is equal to 10\")\n",
    "else: \n",
    "    print(\"a is not equal to 10\")\n",
    "print (\"what is happennig\")\n",
    "x=2\n",
    "y=3\n",
    "if x>y:\n",
    "    print(\"x is greater than y\")\n",
    "if y>x:\n",
    "    print(\"y is greater than x\")\n",
    "print (\"Wow\")\n",
    "x=2\n",
    "y= 3\n",
    "if x>y :\n",
    "    print(\"x is greater to y\")\n",
    "if y>x:\n",
    "    print(\"y is greater to x\")\n",
    "if y == 3:\n",
    "    print(\"y is equal to 3 \")\n",
    "print(\"wow\")\n",
    "\n",
    "\n",
    "temp = int(input(\"enter the tempreture\"))\n",
    "if temp >= 40:\n",
    "    print (\"its too hot\")\n",
    "    print \n",
    "    "
   ]
  },
  {
   "cell_type": "code",
   "execution_count": null,
   "metadata": {},
   "outputs": [],
   "source": []
  },
  {
   "cell_type": "code",
   "execution_count": 20,
   "metadata": {},
   "outputs": [
    {
     "name": "stdout",
     "output_type": "stream",
     "text": [
      "grade D\n"
     ]
    }
   ],
   "source": [
    "per=float(input(\"enter your percentage\"))\n",
    "if per >=90 and per <100:\n",
    "    print(\"grade A\")\n",
    "elif per >=80 and per <90:\n",
    "    print(\"grade B\")\n",
    "elif per >= 70 and per <80:\n",
    "    print(\"grade C\")\n",
    "elif per >=60 and per <70:\n",
    "    print (\"grade D\")\n",
    "else:\n",
    "    print(\"grade F\")"
   ]
  },
  {
   "cell_type": "code",
   "execution_count": 27,
   "metadata": {},
   "outputs": [
    {
     "name": "stdout",
     "output_type": "stream",
     "text": [
      "not sit in exam\n"
     ]
    }
   ],
   "source": [
    "days = float(input(\"inter your persent days\"))\n",
    "if days <=75:\n",
    "    print (\"student will not be able sit in exam\")\n",
    "elif days >=75:\n",
    "    print(\"student will be able sit in exam\")\n",
    "else:\n",
    "    print(\"no result\")\n"
   ]
  },
  {
   "cell_type": "code",
   "execution_count": null,
   "metadata": {},
   "outputs": [],
   "source": []
  },
  {
   "cell_type": "code",
   "execution_count": 3,
   "metadata": {},
   "outputs": [
    {
     "name": "stdout",
     "output_type": "stream",
     "text": [
      "jal mahal\n"
     ]
    }
   ],
   "source": [
    "city = (input(\"enter the name of the city\"))\n",
    "if city == \"delhi\":\n",
    "    print (\"red fort\")\n",
    "elif city == \"agra\":\n",
    "    print(\"taj mahal \")\n",
    "elif city == \"jaipur\":\n",
    "    print(\"jal mahal\")\n",
    "else:\n",
    "    print(\"no monument\")"
   ]
  },
  {
   "cell_type": "code",
   "execution_count": 18,
   "metadata": {},
   "outputs": [
    {
     "name": "stdout",
     "output_type": "stream",
     "text": [
      "student will be able to sit in exam\n"
     ]
    }
   ],
   "source": [
    "a = 25\n",
    "if a >=5575:\n",
    "    print(\"student will not be able to sit in exam\")\n",
    "if a <= 55:\n",
    "    print (\"student will be able to sit in exam\")\n",
    "else:\n",
    "    print(\"no result\")\n",
    "    \n"
   ]
  },
  {
   "cell_type": "code",
   "execution_count": 29,
   "metadata": {},
   "outputs": [
    {
     "name": "stdout",
     "output_type": "stream",
     "text": [
      "student will be able sit in exam\n"
     ]
    }
   ],
   "source": [
    "days = float(input(\"inter your persent days\"))\n",
    "if days <=75:\n",
    "    print (\"student will not be able sit in exam\")\n",
    "elif days >=75:\n",
    "    print(\"student will be able sit in exam\")\n",
    "else:\n",
    "    print(\"no result\")\n"
   ]
  },
  {
   "cell_type": "code",
   "execution_count": 9,
   "metadata": {},
   "outputs": [
    {
     "name": "stdout",
     "output_type": "stream",
     "text": [
      "not divisible\n"
     ]
    }
   ],
   "source": [
    "num =int(input(\"enter a number\"))\n",
    "if num%2==0 and num%3==0:\n",
    "    print(\"number is divisible\")\n",
    "else:\n",
    "    print(\"not divisible\") "
   ]
  },
  {
   "cell_type": "code",
   "execution_count": 10,
   "metadata": {},
   "outputs": [
    {
     "name": "stdout",
     "output_type": "stream",
     "text": [
      "1\n",
      "2\n",
      "3\n",
      "4\n",
      "5\n",
      "6\n",
      "7\n",
      "8\n",
      "9\n",
      "10\n"
     ]
    }
   ],
   "source": [
    "i = 1\n",
    "while (i<=10):\n",
    "    print(i)\n",
    "    i+=1"
   ]
  },
  {
   "cell_type": "code",
   "execution_count": 11,
   "metadata": {},
   "outputs": [
    {
     "name": "stdout",
     "output_type": "stream",
     "text": [
      "run\n",
      "run\n",
      "run\n",
      "run\n",
      "stop\n"
     ]
    }
   ],
   "source": [
    "x = 1\n",
    "while x < 5:\n",
    "    print('run')\n",
    "    x +=1\n",
    "print('stop')"
   ]
  },
  {
   "cell_type": "code",
   "execution_count": 12,
   "metadata": {},
   "outputs": [
    {
     "name": "stdout",
     "output_type": "stream",
     "text": [
      "the sum is 55\n"
     ]
    }
   ],
   "source": [
    "# a complex program\n",
    "n = 10\n",
    "\n",
    "# initialize sum and counter\n",
    "sum= 0\n",
    "i = 1 \n",
    "while i <= n:\n",
    "    sum = sum+i\n",
    "    i = i+1      #update counter\n",
    "\n",
    "# print the sum\n",
    "print (\"the sum is\",sum)\n"
   ]
  },
  {
   "cell_type": "code",
   "execution_count": 17,
   "metadata": {},
   "outputs": [
    {
     "name": "stdout",
     "output_type": "stream",
     "text": [
      "the sum is 100\n"
     ]
    }
   ],
   "source": [
    "n = 100\n",
    "\n",
    "sum = 0 \n",
    "i = 100\n",
    "while i <=n:\n",
    "    sum= sum+i\n",
    "    i = i+1\n",
    "print(\"the sum is\",sum)\n"
   ]
  },
  {
   "cell_type": "code",
   "execution_count": 18,
   "metadata": {},
   "outputs": [
    {
     "name": "stdout",
     "output_type": "stream",
     "text": [
      "[10, 20, 30, 40, 50]\n"
     ]
    }
   ],
   "source": [
    "num =[10,20,30,40,50]\n",
    "while num <= [10,20,30,40,50,]:\n",
    "    print(num)\n",
    "\n"
   ]
  }
 ],
 "metadata": {
  "kernelspec": {
   "display_name": "Python 3",
   "language": "python",
   "name": "python3"
  },
  "language_info": {
   "codemirror_mode": {
    "name": "ipython",
    "version": 3
   },
   "file_extension": ".py",
   "mimetype": "text/x-python",
   "name": "python",
   "nbconvert_exporter": "python",
   "pygments_lexer": "ipython3",
   "version": "undefined.undefined.undefined"
  }
 },
 "nbformat": 4,
 "nbformat_minor": 2
}
