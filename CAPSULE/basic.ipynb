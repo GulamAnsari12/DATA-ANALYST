{
 "cells": [
  {
   "cell_type": "code",
   "execution_count": 3,
   "metadata": {},
   "outputs": [
    {
     "name": "stdout",
     "output_type": "stream",
     "text": [
      "name age school\n"
     ]
    }
   ],
   "source": [
    "name= input('enter your name')\n",
    "age = input ('enter your age')\n",
    "school = input ('enter your school name')\n",
    "print(\"name\", \"age\", \"school\")\n"
   ]
  },
  {
   "cell_type": "code",
   "execution_count": 2,
   "metadata": {},
   "outputs": [
    {
     "name": "stdout",
     "output_type": "stream",
     "text": [
      "('i will purchase ', 10, 'apple', 'today')\n"
     ]
    }
   ],
   "source": [
    "qty = 10\n",
    "fruit = \"apple\"\n",
    "print(('i will purchase ',qty,fruit,'today'))"
   ]
  },
  {
   "cell_type": "code",
   "execution_count": 12,
   "metadata": {},
   "outputs": [
    {
     "name": "stdout",
     "output_type": "stream",
     "text": [
      "digipodium is an educational company.\n"
     ]
    }
   ],
   "source": [
    "name = 'digipodium'\n",
    "type_of_company = 'educational'\n",
    "print(f\"{name} is an {type_of_company} company.\")"
   ]
  }
 ],
 "metadata": {
  "kernelspec": {
   "display_name": "base",
   "language": "python",
   "name": "python3"
  },
  "language_info": {
   "codemirror_mode": {
    "name": "ipython",
    "version": 3
   },
   "file_extension": ".py",
   "mimetype": "text/x-python",
   "name": "python",
   "nbconvert_exporter": "python",
   "pygments_lexer": "ipython3",
   "version": "3.12.3"
  }
 },
 "nbformat": 4,
 "nbformat_minor": 2
}
